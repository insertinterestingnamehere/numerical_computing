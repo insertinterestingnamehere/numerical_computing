{
 "metadata": {
  "name": ""
 },
 "nbformat": 3,
 "nbformat_minor": 0,
 "worksheets": [
  {
   "cells": [
    {
     "cell_type": "code",
     "collapsed": false,
     "input": [
      "#A test implimentation of GMRES algorithm\n",
      "import numpy as np\n",
      "from numpy.linalg import norm"
     ],
     "language": "python",
     "metadata": {},
     "outputs": [],
     "prompt_number": 1
    },
    {
     "cell_type": "code",
     "collapsed": false,
     "input": [
      "#Generate a random mxm matrix and corresponding vector.\n",
      "#m = 1000\n",
      "#A = np.random.random((m, m))\n",
      "#b = np.random.random((m, 1))\n",
      "\n",
      "# Generate a random matrix with nice eigenvalues\n",
      "m = 2000\n",
      "A = np.random.random((m, m))\n",
      "b = np.random.random((m, 1))\n",
      "Q = np.linalg.qr(A)\n",
      "q = 1000 # number of eigenvalue clumps\n",
      "r = .1 # radius of clumps\n",
      "Lambda = np.zeros((m, m))\n",
      "for i in range(q):\n",
      "    temp = np.random.random() + i + 1\n",
      "    for j in range(i * (m/q), (i+1) * (m/q)):\n",
      "        Lambda[j,j] = temp + np.random.random() * r\n",
      "A = np.dot(np.dot(Q[0], Lambda), Q[0].T)\n",
      "\n",
      "\n",
      "# Initialize parmeters\n",
      "tol = 10**(-2)# tolerance\n",
      "res = np.linalg.norm(b)# residual\n",
      "maxiter = 500# Maximum number of allowable iterations\n",
      "H = np.array([[0]], dtype=np.float)\n",
      "Q = b / np.linalg.norm(b)"
     ],
     "language": "python",
     "metadata": {},
     "outputs": [],
     "prompt_number": 2
    },
    {
     "cell_type": "code",
     "collapsed": false,
     "input": [
      "# This is the part that impliments GMRES\n",
      "n = 0# counts number of iterations so far\n",
      "while n<maxiter and res>tol:\n",
      "    \n",
      "    # Update the count\n",
      "    n = n + 1\n",
      "    \n",
      "    # Resize H as needed.\n",
      "    if np.shape(H)[0] < n+2 or np.shape(H)[1] < n+2:\n",
      "        temp = np.zeros((2*n+1, 2*n+1), dtype=np.float)\n",
      "        temp[:H.shape[0],:H.shape[1]] = H\n",
      "        H = temp\n",
      "    \n",
      "    # Perform step n of the Arnoldi iteration\n",
      "    v = np.dot(A,np.array([Q[:,n-1]]).T)\n",
      "    for j in range(1,n+1):\n",
      "        H[j-1,n-1] = np.dot(np.array([Q[:,j-1]]), v)[0,0]\n",
      "        v = v - H[j-1,n-1] * np.array([Q[:,j-1]]).T\n",
      "    H[n,n-1] = np.linalg.norm(v)\n",
      "    Q = np.hstack((Q, v/H[n,n-1]))\n",
      "    \n",
      "    # Solve the least sqrares problem\n",
      "    be = np.zeros((n+1, 1))\n",
      "    be[0,0] = np.linalg.norm(b)\n",
      "    y = np.linalg.lstsq(H[0:n+1,0:n], be)\n",
      "    x = np.dot(Q[:,0:n], y[0])\n",
      "    res = np.sqrt(y[1][0]) / np.linalg.norm(be)"
     ],
     "language": "python",
     "metadata": {},
     "outputs": [],
     "prompt_number": 3
    },
    {
     "cell_type": "code",
     "collapsed": false,
     "input": [],
     "language": "python",
     "metadata": {},
     "outputs": []
    }
   ],
   "metadata": {}
  }
 ]
}