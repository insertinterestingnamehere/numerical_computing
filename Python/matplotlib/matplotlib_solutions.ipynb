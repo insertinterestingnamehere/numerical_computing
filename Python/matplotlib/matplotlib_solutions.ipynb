{
 "metadata": {
  "name": ""
 },
 "nbformat": 3,
 "nbformat_minor": 0,
 "worksheets": [
  {
   "cells": [
    {
     "cell_type": "code",
     "collapsed": false,
     "input": [
      "import numpy as np\n",
      "from matplotlib import pyplot as plt\n",
      "from matplotlib import widgets as wg\n",
      "from mpl_toolkits.mplot3d import Axes3D"
     ],
     "language": "python",
     "metadata": {},
     "outputs": [],
     "prompt_number": 1
    },
    {
     "cell_type": "code",
     "collapsed": false,
     "input": [
      "# Problem 1\n",
      "X = np.linspace(0, 2*np.pi, 400)\n",
      "Y1 = np.sin(X)\n",
      "Y2 = np.cos(X)\n",
      "plt.plot(X, Y1, \"r--\", X, Y2, \"b:\")\n",
      "plt.show()"
     ],
     "language": "python",
     "metadata": {},
     "outputs": [],
     "prompt_number": 2
    },
    {
     "cell_type": "code",
     "collapsed": false,
     "input": [
      "# Problem 2\n",
      "X1 = np.linspace(-2, 1-.01, 300)\n",
      "X2 = np.linspace(1.01, 6, 500)\n",
      "f = lambda X: 1./(X - 1)\n",
      "Y1 = f(X1)\n",
      "Y2 = f(X2)\n",
      "plt.plot(X1, Y1, 'b', X2, Y2, 'b')\n",
      "plt.ylim((-6,6))\n",
      "plt.show()"
     ],
     "language": "python",
     "metadata": {},
     "outputs": [],
     "prompt_number": 3
    },
    {
     "cell_type": "code",
     "collapsed": false,
     "input": [
      "# Problem 3\n",
      "X = np.linspace(0, 10, 1001)\n",
      "Y = np.sin(X) / (X + 1)\n",
      "plt.plot(X, Y, \":\")\n",
      "plt.fill_between(X, Y, where=Y>0, color='b')\n",
      "plt.fill_between(X, Y, where=Y<=0, color='r')\n",
      "plt.xlabel(\"x-axis\")\n",
      "plt.ylabel(\"y-axis\")\n",
      "plt.title(\"My Plot\")\n",
      "plt.grid()\n",
      "indices = np.zeros_like(X, dtype=bool)\n",
      "for i in xrange(1, Y.size-1):\n",
      "    if (Y[i-1]-Y[i])*(Y[i]-Y[i+1])<0:\n",
      "        indices[i]=True\n",
      "plt.scatter(X[indices], .5*Y[indices], marker='^')\n",
      "plt.xlim((0,10))\n",
      "plt.show()"
     ],
     "language": "python",
     "metadata": {},
     "outputs": [],
     "prompt_number": 4
    },
    {
     "cell_type": "code",
     "collapsed": false,
     "input": [
      "# Problem 4\n",
      "R = np.linspace(0, 2, 401)\n",
      "I = R.copy()\n",
      "R, I = np.meshgrid(R, I)\n",
      "X = R + complex(0,1)*I\n",
      "f = np.poly1d([1, 2, -1, 3])\n",
      "Y = np.absolute(f(X))\n",
      "plt.pcolormesh(R, I, Y)\n",
      "plt.show()"
     ],
     "language": "python",
     "metadata": {},
     "outputs": [],
     "prompt_number": 5
    },
    {
     "cell_type": "code",
     "collapsed": false,
     "input": [
      "# Problem 5\n",
      "fig = plt.figure()\n",
      "ax = fig.gca(projection='3d')\n",
      "x = np.linspace(-10, 10, 501)\n",
      "y = np.linspace(-10, 10, 501)\n",
      "x, y = np.meshgrid(x, y)\n",
      "d = np.sqrt(x**2 + y**2)\n",
      "z = np.cos(d) / (.1 * d**2 + 1)\n",
      "ax.plot_surface(x, y, z)\n",
      "plt.show()"
     ],
     "language": "python",
     "metadata": {},
     "outputs": [],
     "prompt_number": 6
    },
    {
     "cell_type": "code",
     "collapsed": false,
     "input": [
      "# Problem 6\n",
      "ax = plt.subplot(111)\n",
      "plt.subplots_adjust(bottom=.25)\n",
      "t = np.arange(0, 1.01, .01)\n",
      "a = 5.\n",
      "f = 3.\n",
      "p = 0.\n",
      "fc = lambda a, f, p, t: a * np.sin(2*np.pi*f*(t-p))\n",
      "l = plt.plot(t, fc(a, f, p, t))[0]\n",
      "axfreq = plt.axes([.25, .05, .65, .03])\n",
      "axamp = plt.axes([.25, .1, .65, .03])\n",
      "axph = plt.axes([.25, .15, .65, .03])\n",
      "sfreq = wg.Slider(axfreq, \"Freq\", .1, 30., valinit=f)\n",
      "samp = wg.Slider(axamp, \"Amp\", .1, 10., valinit=a)\n",
      "sph = wg.Slider(axph, \"Phase\", 0, 2*np.pi, valinit=p)\n",
      "def update(val):\n",
      "    a = samp.val\n",
      "    f = sfreq.val\n",
      "    p = sph.val\n",
      "    l.set_ydata(fc(a,f,p,t))\n",
      "    plt.draw()\n",
      "sfreq.on_changed(update)\n",
      "samp.on_changed(update)\n",
      "sph.on_changed(update)\n",
      "plt.show()"
     ],
     "language": "python",
     "metadata": {},
     "outputs": [],
     "prompt_number": 7
    },
    {
     "cell_type": "code",
     "collapsed": false,
     "input": [
      "# Problem 7\n",
      "x = np.linspace(-3,3)\n",
      "plt.subplot(221)\n",
      "plt.plot(x, np.exp(x))\n",
      "plt.subplot(222)\n",
      "plt.plot(x, np.sin(x))\n",
      "plt.subplot(223)\n",
      "plt.plot(x, np.cos(x))\n",
      "plt.subplot(224)\n",
      "plt.plot(x, x**2)\n",
      "plt.suptitle(\"My Different Plots\")\n",
      "plt.show()"
     ],
     "language": "python",
     "metadata": {},
     "outputs": [],
     "prompt_number": 8
    },
    {
     "cell_type": "code",
     "collapsed": false,
     "input": [],
     "language": "python",
     "metadata": {},
     "outputs": []
    }
   ],
   "metadata": {}
  }
 ]
}