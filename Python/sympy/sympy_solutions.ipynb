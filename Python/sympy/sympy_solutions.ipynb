{
 "metadata": {
  "name": "sympy_solutions"
 },
 "nbformat": 3,
 "nbformat_minor": 0,
 "worksheets": [
  {
   "cells": [
    {
     "cell_type": "code",
     "collapsed": false,
     "input": [
      "import sympy as sy"
     ],
     "language": "python",
     "metadata": {},
     "outputs": [],
     "prompt_number": 1
    },
    {
     "cell_type": "code",
     "collapsed": false,
     "input": [
      "#problem 1\n",
      "def mye(n):\n",
      "    #calculates pi to n decimal points.\n",
      "    tot=sy.Rational(0,1)\n",
      "    term=1\n",
      "    bound=sy.Rational(1,10)\n",
      "    bound=bound**(n+1)\n",
      "    i=0\n",
      "    while bound<=term:\n",
      "        oldterm=term\n",
      "        term=1/sy.factorial(i)\n",
      "        tot+=term\n",
      "        i+=1\n",
      "    return sy.Float(tot,n+1)"
     ],
     "language": "python",
     "metadata": {},
     "outputs": [],
     "prompt_number": 2
    },
    {
     "cell_type": "code",
     "collapsed": false,
     "input": [
      "mye(100)"
     ],
     "language": "python",
     "metadata": {},
     "outputs": [
      {
       "output_type": "pyout",
       "prompt_number": 3,
       "text": [
        "2.7182818284590452353602874713526624977572470936999595749669676277240766303535475945713821785251664274"
       ]
      }
     ],
     "prompt_number": 3
    },
    {
     "cell_type": "code",
     "collapsed": false,
     "input": [
      "#problem 2\n",
      "x=sy.symbols('x')\n",
      "y=sy.symbols('y')\n",
      "sy.solve(x+sy.exp(x)-y,x)"
     ],
     "language": "python",
     "metadata": {},
     "outputs": [
      {
       "output_type": "pyout",
       "prompt_number": 4,
       "text": [
        "[y - LambertW(exp(y))]"
       ]
      }
     ],
     "prompt_number": 4
    },
    {
     "cell_type": "code",
     "collapsed": false,
     "input": [
      "#problem 3\n",
      "v_10,v_11,v00,v01,v10,v11=sy.symbols('v_{m-1}^{n},v_{m-1}^{n+1},v_{m}^{n},v_{m}^{n+1},v_{m+1}^{n},v{m+1}^{n+1}')\n",
      "h,k=sy.symbols('h,k',real=True)\n",
      "n,m=sy.symbols('n,m')\n",
      "g=sy.symbols('g')\n",
      "th=sy.symbols('\\\\theta',real=True)\n",
      "expr=(v01-v00)/k+(v11-v_11+v10-v_10)/(4*h)\n",
      "expr=expr.subs(v_10,g**(n)*sy.exp(sy.I*(m-1)*th))\n",
      "expr=expr.subs(v_11,g**(n+1)*sy.exp(sy.I*(m-1)*th))\n",
      "expr=expr.subs(v00,g**(n)*sy.exp(sy.I*(m)*th))\n",
      "expr=expr.subs(v01,g**(n+1)*sy.exp(sy.I*(m)*th))\n",
      "expr=expr.subs(v10,g**(n)*sy.exp(sy.I*(m+1)*th))\n",
      "expr=expr.subs(v11,g**(n+1)*sy.exp(sy.I*(m+1)*th))\n",
      "expr/=g**n*sy.exp(sy.I*(m)*th)\n",
      "expr=expr.cancel()\n",
      "expr=expr.subs(sy.exp(sy.I*th),sy.cos(th)+sy.I*sy.sin(th))\n",
      "expr=expr.subs(1/(sy.cos(th)+sy.I*sy.sin(th)),sy.cos(th)-sy.I*sy.sin(th))\n",
      "expr=sy.solve(expr,g)[0]\n",
      "expr=expr*expr.conjugate()\n",
      "expr"
     ],
     "language": "python",
     "metadata": {},
     "outputs": [
      {
       "output_type": "pyout",
       "prompt_number": 5,
       "text": [
        "1"
       ]
      }
     ],
     "prompt_number": 5
    },
    {
     "cell_type": "code",
     "collapsed": false,
     "input": [
      "#problem 4\n",
      "sy.Integral(sy.sin(x**2),(x,0,sy.oo)).doit()"
     ],
     "language": "python",
     "metadata": {},
     "outputs": [
      {
       "output_type": "pyout",
       "prompt_number": 6,
       "text": [
        "sqrt(2)*sqrt(pi)/4"
       ]
      }
     ],
     "prompt_number": 6
    },
    {
     "cell_type": "code",
     "collapsed": false,
     "input": [
      "#problem 5\n",
      "sy.N(sy.exp(sy.sin(sy.cos(x))).diff(x).subs(x,1))"
     ],
     "language": "python",
     "metadata": {},
     "outputs": [
      {
       "output_type": "pyout",
       "prompt_number": 7,
       "text": [
        "-1.20697770397991"
       ]
      }
     ],
     "prompt_number": 7
    },
    {
     "cell_type": "code",
     "collapsed": false,
     "input": [
      "#problem 6\n",
      "f=sy.Function('f')\n",
      "eq=f(x).diff(x,6)+3*f(x).diff(x,4)+3*f(x).diff(x,2)+f(x)-(x**10*sy.exp(x)+x**11*sy.sin(x)+x**12*sy.exp(x)*sy.sin(x)-x**13*sy.cos(2*x)+x**14*sy.exp(x)*sy.cos(3*x))\n",
      "sy.dsolve(eq).expand()"
     ],
     "language": "python",
     "metadata": {},
     "outputs": [
      {
       "output_type": "pyout",
       "prompt_number": 8,
       "text": [
        "f(x) == C1*sin(x) + C2*x*sin(x) + C3*x**2*sin(x) + C4*cos(x) + C5*x*cos(x) + C6*x**2*cos(x) + 666*x**14*exp(x)*sin(3*x)/614125 + 413*x**14*exp(x)*cos(3*x)/614125 + x**14*cos(x)/17472 - 1552068*x**13*exp(x)*sin(3*x)/52200625 + 1128876*x**13*exp(x)*cos(3*x)/52200625 - x**13*sin(x)/832 + x**13*cos(2*x)/27 - 11*x**12*exp(x)*sin(x)/125 - 595799568*x**12*exp(x)*sin(3*x)/4437053125 + 2*x**12*exp(x)*cos(x)/125 - 2505194874*x**12*exp(x)*cos(3*x)/4437053125 - 52*x**12*sin(2*x)/27 - x**12*cos(x)/64 + 2232*x**11*exp(x)*sin(x)/625 + 484410169152*x**11*exp(x)*sin(3*x)/75429903125 - 1224*x**11*exp(x)*cos(x)/625 + 83037654336*x**11*exp(x)*cos(3*x)/75429903125 + 5*x**11*sin(x)/32 - 1508*x**11*cos(2*x)/27 - 226908*x**10*exp(x)*sin(x)/3125 - 201085193076768*x**10*exp(x)*sin(3*x)/6411541765625 + 212256*x**10*exp(x)*cos(x)/3125 + 306719899261776*x**10*exp(x)*cos(3*x)/6411541765625 + x**10*exp(x)/8 + 283712*x**10*sin(2*x)/243 + 165*x**10*cos(x)/128 + 635712*x**9*exp(x)*sin(x)/625 - 121262784681310272*x**9*exp(x)*sin(3*x)/544981050078125 - 859584*x**9*exp(x)*cos(x)/625 - 187791730000370496*x**9*exp(x)*cos(3*x)/544981050078125 - 15*x**9*exp(x)/4 - 1155*x**9*sin(x)/128 + 4678960*x**9*cos(2*x)/243 - 35397648*x**8*exp(x)*sin(x)/3125 + 112291490420478585216*x**8*exp(x)*sin(3*x)/46323389256640625 + 62811936*x**8*exp(x)*cos(x)/3125 - 17009534014650489312*x**8*exp(x)*cos(3*x)/46323389256640625 + 405*x**8*exp(x)/8 - 21095360*x**8*sin(2*x)/81 - 3465*x**8*cos(x)/64 + 8369070336*x**7*exp(x)*sin(x)/78125 - 13289670235506854052864*x**7*exp(x)*sin(3*x)/3937488086814453125 - 18164881152*x**7*exp(x)*cos(x)/78125 + 46579568257168239541248*x**7*exp(x)*cos(3*x)/3937488086814453125 - 360*x**7*exp(x) + 4455*x**7*sin(x)/16 - 2138730880*x**7*cos(2*x)/729 - 340118013312*x**6*exp(x)*sin(x)/390625 - 524382694110951085073664*x**6*exp(x)*sin(3*x)/13387459495169140625 + 861705782784*x**6*exp(x)*cos(x)/390625 - 451420205448832140673152*x**6*exp(x)*cos(3*x)/13387459495169140625 + 945*x**6*exp(x) + 6698531840*x**6*sin(2*x)/243 + 155925*x**6*cos(x)/128 + 11674744316928*x**5*exp(x)*sin(x)/1953125 + 932637119009295299185377792*x**5*exp(x)*sin(3*x)/5689670285446884765625 - 33614205520896*x**5*exp(x)*cos(x)/1953125 - 420095151590358390520518144*x**5*exp(x)*cos(3*x)/5689670285446884765625 + 5670*x**5*exp(x) - 571725*x**5*sin(x)/128 + 52014202240*x**5*cos(2*x)/243 - 13154655685248*x**4*exp(x)*sin(x)/390625 - 4171784219544276777681727488*x**4*exp(x)*sin(3*x)/483621974262985205078125 + 42381204155136*x**4*exp(x)*cos(x)/390625 + 245060645358824547296271042816*x**4*exp(x)*cos(3*x)/483621974262985205078125 - 61425*x**4*exp(x) - 8830697075200*x**4*sin(2*x)/6561 - 1715175*x**4*cos(x)/128 + 292452644994048*x**3*exp(x)*sin(x)/1953125 - 41146135189448784683639270916096*x**3*exp(x)*sin(3*x)/41107867812353742431640625 - 1042681722356736*x**3*exp(x)*cos(x)/1953125 - 20396113975402945748292186390528*x**3*exp(x)*cos(3*x)/41107867812353742431640625 + 226800*x**3*exp(x) + 2027025*x**3*sin(x)/64 - 43408882316800*x**3*cos(2*x)/6561 - 24123599757024768*x**2*exp(x)*sin(x)/48828125 + 4983707699040643346206345333284864*x**2*exp(x)*sin(3*x)/3494168764050068106689453125 + 94287904713547776*x**2*exp(x)*cos(x)/48828125 - 3907183190115265090834706419765248*x**2*exp(x)*cos(3*x)/3494168764050068106689453125 - 297675*x**2*exp(x) + 157038186905600*x**2*sin(2*x)/6561 + 263123619669098496*x*exp(x)*sin(x)/244140625 + 24680562938041835908186594833678336*x*exp(x)*sin(3*x)/59400868988851157813720703125 - 1118297231354806272*x*exp(x)*cos(x)/244140625 + 111909004126147486524591046336462848*x*exp(x)*cos(3*x)/59400868988851157813720703125 - 255150*x*exp(x) + 3355256057753600*x*cos(2*x)/59049 - 1425201260123418624*exp(x)*sin(x)/1220703125 - 4977111233027770363445380002499166208*exp(x)*sin(3*x)/5049073864052348414166259765625 + 6541567675676909568*exp(x)*cos(x)/1220703125 - 1179011513536594450989215186613510144*exp(x)*cos(3*x)/5049073864052348414166259765625 + 722925*exp(x) - 3929786622361600*sin(2*x)/59049"
       ]
      }
     ],
     "prompt_number": 8
    },
    {
     "cell_type": "code",
     "collapsed": false,
     "input": [
      "#problem 7\n",
      "from sympy.utilities.lambdify import lambdify\n",
      "import numpy as np\n",
      "f=sy.Function('f')\n",
      "C1,C2,C3,C4,C5,C6=sy.symbols('C1,C2,C3,C4,C5,C6')\n",
      "eq=f(x).diff(x,6)+3*f(x).diff(x,4)+3*f(x).diff(x,2)+f(x)-(x**10*sy.exp(x)+x**11*sy.sin(x)+x**12*sy.exp(x)*sy.sin(x)-x**13*sy.cos(2*x)+x**14*sy.exp(x)*sy.cos(3*x))\n",
      "eq=sy.dsolve(eq).expand()\n",
      "eq=eq.rhs\n",
      "eq=eq.subs(C1,1).subs(C2,1).subs(C3,1).subs(C4,1).subs(C5,1).subs(C6,1)\n",
      "fc=lambdify(x,eq,\"numpy\")\n",
      "from matplotlib import pyplot as plt\n",
      "X=np.linspace(-3,3,101)\n",
      "Y=fc(X)\n",
      "plt.plot(X,Y)\n",
      "plt.show()"
     ],
     "language": "python",
     "metadata": {},
     "outputs": [],
     "prompt_number": 9
    },
    {
     "cell_type": "code",
     "collapsed": false,
     "input": [],
     "language": "python",
     "metadata": {},
     "outputs": []
    }
   ],
   "metadata": {}
  }
 ]
}