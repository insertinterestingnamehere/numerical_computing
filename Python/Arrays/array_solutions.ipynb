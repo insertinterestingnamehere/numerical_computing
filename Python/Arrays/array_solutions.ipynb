{
 "metadata": {
  "name": ""
 },
 "nbformat": 3,
 "nbformat_minor": 0,
 "worksheets": [
  {
   "cells": [
    {
     "cell_type": "code",
     "collapsed": false,
     "input": [
      "import numpy as np\n",
      "from numpy.random import rand\n",
      "import matplotlib.pyplot as plt\n",
      "from mpl_toolkits.mplot3d import Axes3D"
     ],
     "language": "python",
     "metadata": {},
     "outputs": [],
     "prompt_number": 1
    },
    {
     "cell_type": "code",
     "collapsed": false,
     "input": [
      "# array vs. list problem\n",
      "def arrmul(A,B):\n",
      "    new = []\n",
      "    for i in range(len(A)):\n",
      "        newrow = []\n",
      "        for k in range(len(B[0])):\n",
      "            tot = 0\n",
      "            for j in range(len(B)):\n",
      "                tot += A[i][j] * B[j][k]\n",
      "            newrow.append(tot)\n",
      "        new.append(newrow)\n",
      "    return new\n",
      "\n",
      "k = 200\n",
      "A = [range(i, i+k) for i in range(0, k**2, k)]\n",
      "%timeit arrmul(A,A)\n",
      "A = np.array(A)\n",
      "%timeit np.dot(A,A)"
     ],
     "language": "python",
     "metadata": {},
     "outputs": [
      {
       "output_type": "stream",
       "stream": "stdout",
       "text": [
        "1 loops, best of 3: 1.81 s per loop\n",
        "100 loops, best of 3: 7.26 ms per loop"
       ]
      },
      {
       "output_type": "stream",
       "stream": "stdout",
       "text": [
        "\n"
       ]
      }
     ],
     "prompt_number": 2
    },
    {
     "cell_type": "code",
     "collapsed": false,
     "input": [
      "# fancy indexing\n",
      "# no longer in the lab\n",
      "A = rand(1000,1000)\n",
      "B = np.empty_like(A)\n",
      "for i in xrange(100):\n",
      "    B[:] = rand(1000,1000)\n",
      "    A[A<B] = B[A<B]\n",
      "np.exp(A, out=A)\n",
      "np.average(np.max(A, axis=1))"
     ],
     "language": "python",
     "metadata": {},
     "outputs": [
      {
       "metadata": {},
       "output_type": "pyout",
       "prompt_number": 3,
       "text": [
        "2.7182557644126639"
       ]
      }
     ],
     "prompt_number": 3
    },
    {
     "cell_type": "code",
     "collapsed": false,
     "input": [
      "# time copy vs view problem\n",
      "A = rand(1000,1000)\n",
      "%timeit A.reshape(A.size)\n",
      "%timeit A.flatten()\n",
      "%timeit A.reshape((1,A.size))\n",
      "\n",
      "#the difference is that np.vstack(A) returns a new array\n",
      "#while A.T returns a view\n",
      "#A.T is much faster\n",
      "A = rand(1,1000000)\n",
      "%timeit np.vstack(A)\n",
      "%timeit A.T"
     ],
     "language": "python",
     "metadata": {},
     "outputs": [
      {
       "output_type": "stream",
       "stream": "stdout",
       "text": [
        "1000000 loops, best of 3: 1.4 \u00b5s per loop\n",
        "100 loops, best of 3: 3.06 ms per loop"
       ]
      },
      {
       "output_type": "stream",
       "stream": "stdout",
       "text": [
        "\n",
        "1000000 loops, best of 3: 771 ns per loop"
       ]
      },
      {
       "output_type": "stream",
       "stream": "stdout",
       "text": [
        "\n",
        "100 loops, best of 3: 3.26 ms per loop"
       ]
      },
      {
       "output_type": "stream",
       "stream": "stdout",
       "text": [
        "\n",
        "1000000 loops, best of 3: 315 ns per loop"
       ]
      },
      {
       "output_type": "stream",
       "stream": "stdout",
       "text": [
        "\n"
       ]
      }
     ],
     "prompt_number": 4
    },
    {
     "cell_type": "code",
     "collapsed": false,
     "input": [
      "#laplace's equation problem\n",
      "def laplace(U,tol):\n",
      "    new = U.copy()\n",
      "    dif = tol\n",
      "    while tol<= dif:\n",
      "        new[1:-1,1:-1] = (U[:-2,1:-1] + U[2:,1:-1] + U[1:-1,:-2] + U[1:-1,2:]) / 4.\n",
      "        dif = np.max(np.absolute(U-new))\n",
      "        U[:] = new\n",
      "\n",
      "n = 100\n",
      "tol=.0001\n",
      "U=np.ones((n,n))\n",
      "U[:,0] = 100\n",
      "U[:,-1] = 100\n",
      "U[0] = 0\n",
      "U[-1] = 0\n",
      "laplace(U, tol)\n",
      "fig = plt.figure()\n",
      "ax = fig.gca(projection='3d')\n",
      "X = np.linspace(0,1,n)\n",
      "Y = np.linspace(0,1,n)\n",
      "X, Y = np.meshgrid(X, Y)\n",
      "ax.plot_surface(X, Y, U, rstride=5)\n",
      "plt.show()"
     ],
     "language": "python",
     "metadata": {},
     "outputs": [],
     "prompt_number": 5
    },
    {
     "cell_type": "code",
     "collapsed": false,
     "input": [
      "def large_numbers(n):\n",
      "    # demonstrates law of large numbers\n",
      "    # as n increases, variance goes to 0.\n",
      "    A = rand(n, n)\n",
      "    return A.mean(axis=1).var()\n",
      "# the values go to zero as n increases\n",
      "print large_numbers(10), large_numbers(100), large_numbers(1000), large_numbers(10000)"
     ],
     "language": "python",
     "metadata": {},
     "outputs": [
      {
       "output_type": "stream",
       "stream": "stdout",
       "text": [
        "0.00986165120329 0.000706308185016 8.46898070216e-05 "
       ]
      },
      {
       "output_type": "stream",
       "stream": "stdout",
       "text": [
        "8.27368144399e-06\n"
       ]
      }
     ],
     "prompt_number": 6
    },
    {
     "cell_type": "code",
     "collapsed": false,
     "input": [
      "# broadcasting problem\n",
      "# no longer in first lab\n",
      "\n",
      "#case 1\n",
      "#All input arrays have exactly the same shape\n",
      "a = rand(4, 5)\n",
      "b = rand(4, 5)\n",
      "r = a * b\n",
      "print \"Case 1: {} * {} = {}\".format(a.shape, b.shape, r.shape)\n",
      "\n",
      "#case 2\n",
      "#All input arrays are of the same dimension and\n",
      "#the length of corresponding dimensions match or is 1\n",
      "a = rand(5, 4, 1, 6)\n",
      "b = rand(5, 4, 1, 1)\n",
      "r = a * b\n",
      "print \"Case 2: {} * {} = {}\".format(a.shape, b.shape, r.shape)\n",
      "\n",
      "#case 3\n",
      "#All input arrays of fewer dimension can have 1\n",
      "#prepended to their shapes to satisfy the second criteria.\n",
      "a = rand(1, 6)\n",
      "b = rand(5, 4, 1, 6)\n",
      "r = a * b\n",
      "print \"Case 3: {} * {} = {}\".format(a.shape, b.shape, r.shape)"
     ],
     "language": "python",
     "metadata": {},
     "outputs": [
      {
       "output_type": "stream",
       "stream": "stdout",
       "text": [
        "Case 1: (4L, 5L) * (4L, 5L) = (4L, 5L)\n",
        "Case 2: (5L, 4L, 1L, 6L) * (5L, 4L, 1L, 1L) = (5L, 4L, 1L, 6L)\n",
        "Case 3: (1L, 6L) * (5L, 4L, 1L, 6L) = (5L, 4L, 1L, 6L)\n"
       ]
      }
     ],
     "prompt_number": 7
    },
    {
     "cell_type": "code",
     "collapsed": false,
     "input": [],
     "language": "python",
     "metadata": {},
     "outputs": []
    }
   ],
   "metadata": {}
  }
 ]
}