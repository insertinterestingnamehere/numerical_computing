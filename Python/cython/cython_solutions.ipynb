{
 "metadata": {
  "name": "cython_solutions"
 },
 "nbformat": 3,
 "nbformat_minor": 0,
 "worksheets": [
  {
   "cells": [
    {
     "cell_type": "code",
     "collapsed": false,
     "input": [
      "import scipy as sp\n",
      "import numpy as np\n",
      "from scipy import linalg as la\n",
      "import math as ma\n",
      "%load_ext cythonmagic"
     ],
     "language": "python",
     "metadata": {},
     "outputs": [],
     "prompt_number": 1
    },
    {
     "cell_type": "code",
     "collapsed": false,
     "input": [
      "def naivesum(X):\n",
      "    tot = 0.\n",
      "    for i in xrange(X.size):\n",
      "        tot += X[i]\n",
      "    return tot"
     ],
     "language": "python",
     "metadata": {},
     "outputs": [],
     "prompt_number": 2
    },
    {
     "cell_type": "code",
     "collapsed": false,
     "input": [
      "%%cython\n",
      "import numpy as np\n",
      "cimport numpy as np\n",
      "cimport cython\n",
      "\n",
      "def cysum1(X):\n",
      "    cdef int i, size=X.size\n",
      "    cdef double tot\n",
      "    for i in range(size):\n",
      "        tot += X[i]\n",
      "    return tot\n",
      "\n",
      "def cysum2(np.ndarray[dtype=double,ndim=1] X):\n",
      "    cdef int i, size=X.size\n",
      "    cdef double tot\n",
      "    for i in range(size):\n",
      "        tot += X[i]\n",
      "    return tot\n",
      "\n",
      "@cython.boundscheck(False)\n",
      "@cython.wraparound(False)\n",
      "def cysum3(np.ndarray[dtype=double,ndim=1] X):\n",
      "    cdef int i, size=X.size\n",
      "    cdef double tot\n",
      "    for i in range(size):\n",
      "        tot += X[i]\n",
      "    return tot\n",
      "\n",
      "def cysum4(np.ndarray[dtype=double,ndim=1] X):\n",
      "    cdef int i, size=X.size\n",
      "    cdef double tot\n",
      "    cdef double* Xptr = &X[0]\n",
      "    for i in range(size):\n",
      "        tot += Xptr[0]\n",
      "        Xptr += 1\n",
      "    return tot\n",
      "\n",
      "def cysum5(np.ndarray[dtype=double,ndim=1] X):\n",
      "    cdef int i, size=X.size\n",
      "    cdef double tot\n",
      "    cdef double* Xptr = &X[0]\n",
      "    for i in range(size):\n",
      "        tot += Xptr[i]\n",
      "    return tot"
     ],
     "language": "python",
     "metadata": {},
     "outputs": [],
     "prompt_number": 3
    },
    {
     "cell_type": "code",
     "collapsed": false,
     "input": [
      "#versions 4 and 5 are alternate implementations using pointers\n",
      "#I included them here to ensure that they are not faster than \n",
      "#the best version actually coded in the lab.\n",
      "X=sp.rand(10000000)\n",
      "%timeit naivesum(X)\n",
      "%timeit cysum1(X)\n",
      "%timeit sum(X)\n",
      "%timeit cysum2(X)\n",
      "%timeit cysum3(X)\n",
      "%timeit cysum4(X)\n",
      "%timeit cysum5(X)\n",
      "%timeit np.sum(X)"
     ],
     "language": "python",
     "metadata": {},
     "outputs": [
      {
       "output_type": "stream",
       "stream": "stdout",
       "text": [
        "1 loops, best of 3: 4.24 s per loop\n",
        "1 loops, best of 3: 12.7 s per loop"
       ]
      },
      {
       "output_type": "stream",
       "stream": "stdout",
       "text": [
        "\n",
        "1 loops, best of 3: 3.64 s per loop"
       ]
      },
      {
       "output_type": "stream",
       "stream": "stdout",
       "text": [
        "\n",
        "10 loops, best of 3: 40.8 ms per loop"
       ]
      },
      {
       "output_type": "stream",
       "stream": "stdout",
       "text": [
        "\n",
        "10 loops, best of 3: 23.3 ms per loop"
       ]
      },
      {
       "output_type": "stream",
       "stream": "stdout",
       "text": [
        "\n",
        "10 loops, best of 3: 23.9 ms per loop"
       ]
      },
      {
       "output_type": "stream",
       "stream": "stdout",
       "text": [
        "\n",
        "10 loops, best of 3: 25.3 ms per loop"
       ]
      },
      {
       "output_type": "stream",
       "stream": "stdout",
       "text": [
        "\n",
        "10 loops, best of 3: 21 ms per loop"
       ]
      },
      {
       "output_type": "stream",
       "stream": "stdout",
       "text": [
        "\n"
       ]
      }
     ],
     "prompt_number": 4
    },
    {
     "cell_type": "code",
     "collapsed": false,
     "input": [
      "def MyCholesky(A):\n",
      "    L=np.zeros_like(A)\n",
      "    for i in xrange(len(A)):\n",
      "        for j in xrange(i):\n",
      "            L[i,j]=(A[i,j]-sum(L[i,k]*L[j,k].conjugate() for k in xrange(1,j)))/L[j,j]\n",
      "        L[i,i]=ma.sqrt(A[i,i]-sum(L[i,k]*L[i,k].conjugate() for k in xrange(1,i)))\n",
      "    return L"
     ],
     "language": "python",
     "metadata": {},
     "outputs": [],
     "prompt_number": 5
    },
    {
     "cell_type": "code",
     "collapsed": false,
     "input": [
      "%%cython\n",
      "cimport numpy as np\n",
      "import numpy as np\n",
      "from libc.math cimport sqrt\n",
      "cimport cython\n",
      "\n",
      "@cython.boundscheck(False)\n",
      "@cython.wraparound(False)\n",
      "def MyCholesky_cython(np.ndarray[dtype=double,ndim=2] A):\n",
      "    cdef np.ndarray[dtype=double,ndim=2] L = np.zeros_like(A)\n",
      "    cdef int i,j,k\n",
      "    cdef double tot\n",
      "    for i in range(len(A)):\n",
      "        for j in range(i):\n",
      "            tot = 0.\n",
      "            for k in xrange(1,j):\n",
      "                tot += L[i,k]*L[j,k]\n",
      "            L[i,j] = (A[i,j] - tot) / L[j,j]\n",
      "        tot = 0.\n",
      "        for k in xrange(1,i):\n",
      "            tot += L[i,k]*L[i,k]\n",
      "        L[i,i] = sqrt(A[i,i] - tot)\n",
      "    return L"
     ],
     "language": "python",
     "metadata": {},
     "outputs": [],
     "prompt_number": 6
    },
    {
     "cell_type": "code",
     "collapsed": false,
     "input": [
      "A=sp.rand(100,100)\n",
      "A=sp.dot(A,A.T)\n",
      "%timeit MyCholesky(A)\n",
      "%timeit MyCholesky_cython(A)"
     ],
     "language": "python",
     "metadata": {},
     "outputs": [
      {
       "output_type": "stream",
       "stream": "stdout",
       "text": [
        "1 loops, best of 3: 414 ms per loop\n",
        "1000 loops, best of 3: 362 us per loop"
       ]
      },
      {
       "output_type": "stream",
       "stream": "stdout",
       "text": [
        "\n"
       ]
      }
     ],
     "prompt_number": 7
    },
    {
     "cell_type": "code",
     "collapsed": false,
     "input": [
      "def mymultpy(X,power):\n",
      "    prod = np.empty_like(X)\n",
      "    prod[:] = X\n",
      "    temparr = np.empty_like(X[0])\n",
      "    size = X.shape[0]\n",
      "    for n in xrange(1, power):\n",
      "        for i in xrange(size):\n",
      "            for j in xrange(size):\n",
      "                tot = 0.\n",
      "                for k in xrange(size):\n",
      "                    tot += prod[i,k] * X[k,j]\n",
      "                temparr[j] = tot\n",
      "            prod[i] = temparr\n",
      "    return prod"
     ],
     "language": "python",
     "metadata": {},
     "outputs": [],
     "prompt_number": 8
    },
    {
     "cell_type": "code",
     "collapsed": false,
     "input": [
      "%%cython\n",
      "#lets try raising a matrix to a power...\n",
      "#really just a special case of matrix mult.\n",
      "import numpy as np\n",
      "cimport numpy as np\n",
      "cimport cython\n",
      "\n",
      "def mymult1(np.ndarray[dtype=double,ndim=2] X, int power):\n",
      "    cdef np.ndarray[dtype=double,ndim=2] prod = np.empty_like(X)\n",
      "    prod[:] = X\n",
      "    cdef np.ndarray[dtype=double,ndim=1] temparr = np.empty_like(X[0])\n",
      "    cdef int i, j, k, n, size=X.shape[0]\n",
      "    cdef double tot\n",
      "    for n in range(1, power):\n",
      "        for i in range(size):\n",
      "            for j in range(size):\n",
      "                tot = 0.\n",
      "                for k in range(size):\n",
      "                    tot += prod[i,k] * X[k,j]\n",
      "                temparr[j] = tot\n",
      "            prod[i] = temparr\n",
      "    return prod\n",
      "\n",
      "@cython.boundscheck(False)\n",
      "@cython.wraparound(False)\n",
      "def mymult2(np.ndarray[dtype=double,ndim=2] X, int power):\n",
      "    cdef np.ndarray[dtype=double,ndim=2] prod = np.empty_like(X)\n",
      "    prod[:] = X\n",
      "    cdef np.ndarray[dtype=double,ndim=1] temparr = np.empty_like(X[0])\n",
      "    cdef int i, j, k, n, size=X.shape[0]\n",
      "    cdef double tot\n",
      "    for n in range(1, power):\n",
      "        for i in range(size):\n",
      "            for j in range(size):\n",
      "                tot = 0.\n",
      "                for k in range(size):\n",
      "                    tot += prod[i,k] * X[k,j]\n",
      "                temparr[j] = tot\n",
      "            prod[i] = temparr\n",
      "    return prod\n",
      "\n",
      "@cython.boundscheck(False)\n",
      "@cython.wraparound(False)\n",
      "def mymult3(np.ndarray[dtype=double,ndim=2] X, int power):\n",
      "    cdef np.ndarray[dtype=double,ndim=2] prod = np.empty_like(X)\n",
      "    cdef double[:,::1] prodview = prod\n",
      "    prod[:] = X\n",
      "    cdef np.ndarray[dtype=double,ndim=1] temparr = np.empty_like(X[0])\n",
      "    cdef double[::1] tempview = temparr\n",
      "    cdef int i,j,k,n, size = X.shape[0]\n",
      "    cdef double tot\n",
      "    for n in range(1, power):\n",
      "        for i in range(size):\n",
      "            for j in range(size):\n",
      "                tot = 0.\n",
      "                for k in range(size):\n",
      "                    tot += prod[i,k]*X[k,j]\n",
      "                temparr[j] = tot\n",
      "            prodview[i] = tempview\n",
      "    return prod\n",
      "\n",
      "@cython.boundscheck(False)\n",
      "@cython.wraparound(False)\n",
      "def mymult4(np.ndarray[dtype=double,ndim=2] X, int power):\n",
      "    cdef np.ndarray[dtype=double,ndim=2] prod = np.empty_like(X)\n",
      "    prod[:] = X\n",
      "    cdef np.ndarray[dtype=double,ndim=1] temparr = np.empty_like(X[0])\n",
      "    cdef int i, j, k, n, size=X.shape[0]\n",
      "    cdef double tot\n",
      "    for n in range(1, power):\n",
      "        for i in range(size):\n",
      "            for j in range(size):\n",
      "                tot = 0.\n",
      "                for k in range(size):\n",
      "                    tot += prod[i,k] * X[k,j]\n",
      "                temparr[j] = tot\n",
      "            prod[i] = temparr\n",
      "    return prod\n",
      "\n",
      "@cython.boundscheck(False)\n",
      "@cython.wraparound(False)\n",
      "def mymult5(np.ndarray[dtype=double,ndim=2] X, int power):\n",
      "    cdef np.ndarray[dtype=double,ndim=2] prod = np.empty_like(X)\n",
      "    prod[:] = X\n",
      "    cdef np.ndarray[dtype=double,ndim=1] temparr = np.empty_like(X[0])\n",
      "    cdef int i, j, k, n, size=X.shape[0]\n",
      "    cdef double tot\n",
      "    for n in range(1, power):\n",
      "        for j in range(size):\n",
      "            tot = 0.\n",
      "            for k in range(size):\n",
      "                tot += prod[0,k]*X[k,j]\n",
      "            temparr[j] = tot\n",
      "        for i in range(1, size):\n",
      "            for j in range(size):\n",
      "                tot = 0.\n",
      "                for k in range(size):\n",
      "                    tot += prod[i,k] * X[k,j]\n",
      "                prod[i-1,j], temparr[j] = temparr[j], tot\n",
      "        prod[size-1] = temparr\n",
      "    return prod"
     ],
     "language": "python",
     "metadata": {},
     "outputs": [],
     "prompt_number": 9
    },
    {
     "cell_type": "code",
     "collapsed": false,
     "input": [
      "#the typed memoryviews don't add much here but it's something.\n",
      "#versions 4 and 5 are not in the problem, but I wrote them to check that they aren't faster\n",
      "X = sp.rand(100,100)\n",
      "print la.norm(sp.dot(X,X)-mymult1(X,2))\n",
      "print la.norm(sp.dot(X,X)-mymult2(X,2))\n",
      "print la.norm(sp.dot(X,X)-mymult3(X,2))\n",
      "print la.norm(sp.dot(X,X)-mymult4(X,2))\n",
      "print la.norm(sp.dot(X,X)-mymult5(X,2))\n",
      "%timeit mymultpy(X, 2)\n",
      "%timeit mymult1(X, 2)\n",
      "%timeit mymult2(X, 2)\n",
      "%timeit mymult3(X, 2)\n",
      "%timeit mymult4(X, 2)\n",
      "%timeit mymult5(X, 2)\n",
      "%timeit sp.dot(X, X)"
     ],
     "language": "python",
     "metadata": {},
     "outputs": [
      {
       "output_type": "stream",
       "stream": "stdout",
       "text": [
        "0.0\n",
        "0.0\n",
        "0.0\n",
        "0.0\n",
        "0.0\n",
        "1 loops, best of 3: 1.1 s per loop"
       ]
      },
      {
       "output_type": "stream",
       "stream": "stdout",
       "text": [
        "\n",
        "100 loops, best of 3: 8.53 ms per loop"
       ]
      },
      {
       "output_type": "stream",
       "stream": "stdout",
       "text": [
        "\n",
        "1000 loops, best of 3: 1.74 ms per loop"
       ]
      },
      {
       "output_type": "stream",
       "stream": "stdout",
       "text": [
        "\n",
        "1000 loops, best of 3: 1.66 ms per loop"
       ]
      },
      {
       "output_type": "stream",
       "stream": "stdout",
       "text": [
        "\n",
        "1000 loops, best of 3: 1.72 ms per loop"
       ]
      },
      {
       "output_type": "stream",
       "stream": "stdout",
       "text": [
        "\n",
        "1000 loops, best of 3: 1.64 ms per loop"
       ]
      },
      {
       "output_type": "stream",
       "stream": "stdout",
       "text": [
        "\n",
        "1000 loops, best of 3: 266 us per loop"
       ]
      },
      {
       "output_type": "stream",
       "stream": "stdout",
       "text": [
        "\n"
       ]
      }
     ],
     "prompt_number": 10
    },
    {
     "cell_type": "code",
     "collapsed": false,
     "input": [
      "%%cython\n",
      "cimport cython\n",
      "cimport numpy as np\n",
      "import numpy as np\n",
      "\n",
      "def rowacc1(X):\n",
      "    cdef int i, rows=X.shape[0], cols=X.shape[1]\n",
      "    for i in range(rows):\n",
      "        for j in range(cols):\n",
      "            X[i,j]\n",
      "\n",
      "def rowacc2(X):\n",
      "    cdef int i, rows=X.shape[0], cols=X.shape[1]\n",
      "    for i in range(rows):\n",
      "        for j in range(cols):\n",
      "            (X[i])[j]\n",
      "\n",
      "@cython.boundscheck(False)\n",
      "@cython.wraparound(False)\n",
      "def rowacc3(np.ndarray[dtype=double,ndim=2] X):\n",
      "    cdef int i, rows=X.shape[0], cols=X.shape[1]\n",
      "    for i in range(rows):\n",
      "        for j in range(cols):\n",
      "            (X[i])[j]\n",
      "\n",
      "@cython.boundscheck(False)\n",
      "@cython.wraparound(False)\n",
      "def rowacc4(np.ndarray[dtype=double,ndim=2] X):\n",
      "    cdef int i, rows=X.shape[0], cols=X.shape[1]\n",
      "    for i in range(rows):\n",
      "        for j in range(cols):\n",
      "            X[i,j]\n",
      "\n",
      "@cython.boundscheck(False)\n",
      "@cython.wraparound(False)\n",
      "def rowacc5(np.ndarray[dtype=double,ndim=2] X):\n",
      "    cdef int i, rows=X.shape[0], cols=X.shape[1]\n",
      "    cdef double[:,::1] Xview = X\n",
      "    for i in range(rows):\n",
      "        for j in range(cols):\n",
      "            (Xview[i])[j]\n",
      "\n",
      "@cython.boundscheck(False)\n",
      "@cython.wraparound(False)\n",
      "def rowacc6(np.ndarray[dtype=double,ndim=2] X):\n",
      "    cdef int i, rows=X.shape[0], cols=X.shape[1]\n",
      "    cdef double[:,::1] Xview = X\n",
      "    for i in range(rows):\n",
      "        for j in range(cols):\n",
      "            Xview[i][j]\n",
      "\n",
      "@cython.boundscheck(False)\n",
      "@cython.wraparound(False)\n",
      "cdef inline rowiter(double[::1] Xslice, int cols):\n",
      "    cdef int j\n",
      "    for j in range(cols):\n",
      "        Xslice[j]\n",
      "\n",
      "@cython.boundscheck(False)\n",
      "@cython.wraparound(False)\n",
      "def rowacc7(np.ndarray[dtype=double,ndim=2] X):\n",
      "    cdef int i, rows=X.shape[0], cols=X.shape[1]\n",
      "    cdef double [:,::1] Xview = X\n",
      "    for i in range(rows):\n",
      "        rowiter(Xview[i], cols)\n",
      "\n",
      "@cython.boundscheck(False)\n",
      "@cython.wraparound(False)\n",
      "def rowacc8(np.ndarray[dtype=double,ndim=2] X):\n",
      "    cdef int i, rows=X.shape[0], cols=X.shape[1]\n",
      "    cdef double[:,::1] Xview = X\n",
      "    cdef double[::1] Xrow\n",
      "    for i in range(rows):\n",
      "        Xrow = X[i]\n",
      "        for j in range(cols):\n",
      "            Xrow[j]\n",
      "\n",
      "@cython.boundscheck(False)\n",
      "@cython.wraparound(False)\n",
      "def rowacc9(np.ndarray[dtype=double,ndim=2] X):\n",
      "    cdef int i, rows=X.shape[0], cols=X.shape[1]\n",
      "    cdef double[:,::1] Xview = X\n",
      "    for i in range(rows):\n",
      "        for j in range(cols):\n",
      "            Xview[i,j]\n",
      "\n",
      "@cython.boundscheck(False)\n",
      "@cython.wraparound(False)\n",
      "cdef arrrowiter(np.ndarray[dtype=double,ndim=1] Xslice, int cols):\n",
      "    cdef int j\n",
      "    for j in range(cols):\n",
      "        Xslice[j]\n",
      "\n",
      "@cython.boundscheck(False)\n",
      "@cython.wraparound(False)\n",
      "def rowacc10(np.ndarray[dtype=double,ndim=2] X):\n",
      "    cdef int i, rows=X.shape[0], cols=X.shape[1]\n",
      "    for i in range(rows):\n",
      "        arrrowiter(X[i], cols)\n",
      "\n",
      "@cython.boundscheck(False)\n",
      "@cython.wraparound(False)\n",
      "cdef inline arrrowiter2(np.ndarray[dtype=double,ndim=1] Xslice, int cols):\n",
      "    cdef int j\n",
      "    for j in range(cols):\n",
      "        Xslice[j]\n",
      "\n",
      "@cython.boundscheck(False)\n",
      "@cython.wraparound(False)\n",
      "def rowacc11(np.ndarray[dtype=double,ndim=2] X):\n",
      "    cdef int i, rows=X.shape[0], cols=X.shape[1]\n",
      "    for i in range(rows):\n",
      "        arrrowiter2(X[i], cols)"
     ],
     "language": "python",
     "metadata": {},
     "outputs": [
      {
       "output_type": "stream",
       "stream": "stderr",
       "text": [
        "warning: .ipython\\cython\\_cython_magic_e2e564fc2df8c16074752df7ed32eb0a.pyx:102:24: Buffer unpacking not optimized away.\n",
        "warning: .ipython\\cython\\_cython_magic_e2e564fc2df8c16074752df7ed32eb0a.pyx:102:24: Buffer unpacking not optimized away.\n"
       ]
      }
     ],
     "prompt_number": 11
    },
    {
     "cell_type": "code",
     "collapsed": false,
     "input": [
      "#this is to show speed using different ways of slicing.\n",
      "#we see that memoryviews work nearly the same as single item access when inlined.\n",
      "#we also see that item access on a memoryview slice is still optimized.\n",
      "X = sp.rand(1000, 1000)\n",
      "print \"untyped, python normal indexing\"\n",
      "%timeit rowacc1(X)\n",
      "print \"untyped, python indexing on a slice\"\n",
      "%timeit rowacc2(X)\n",
      "print \"typed indexing on a slice\"\n",
      "%timeit rowacc3(X)\n",
      "print \"typed fast indexing\"\n",
      "%timeit rowacc4(X)\n",
      "print \"indexing on a view slice\"\n",
      "%timeit rowacc5(X)\n",
      "print \"same but with sleight syntax change\"\n",
      "%timeit rowacc6(X)\n",
      "print \"indexing on a view slice using an inline function\"\n",
      "%timeit rowacc7(X)\n",
      "print \"prestored the slice that we use for iteration\"\n",
      "%timeit rowacc8(X)\n",
      "print \"fast indexing on a view\"\n",
      "%timeit rowacc9(X)\n",
      "print \"numpy array with function call\"\n",
      "%timeit rowacc10(X)\n",
      "print \"inlined numpy array\"\n",
      "%timeit rowacc11(X)\n",
      "#we see here that slicing is coded in as item-by-item acess for an inlined function.\n",
      "#it looks like the compiler can be picky about using that inlining though."
     ],
     "language": "python",
     "metadata": {},
     "outputs": [
      {
       "output_type": "stream",
       "stream": "stdout",
       "text": [
        "untyped, python normal indexing\n",
        "1 loops, best of 3: 222 ms per loop"
       ]
      },
      {
       "output_type": "stream",
       "stream": "stdout",
       "text": [
        "\n",
        "untyped, python indexing on a slice\n",
        "1 loops, best of 3: 550 ms per loop"
       ]
      },
      {
       "output_type": "stream",
       "stream": "stdout",
       "text": [
        "\n",
        "typed indexing on a slice\n",
        "1 loops, best of 3: 554 ms per loop"
       ]
      },
      {
       "output_type": "stream",
       "stream": "stdout",
       "text": [
        "\n",
        "typed fast indexing\n",
        "1000 loops, best of 3: 455 us per loop"
       ]
      },
      {
       "output_type": "stream",
       "stream": "stdout",
       "text": [
        "\n",
        "indexing on a view slice\n",
        "10 loops, best of 3: 33.8 ms per loop"
       ]
      },
      {
       "output_type": "stream",
       "stream": "stdout",
       "text": [
        "\n",
        "same but with sleight syntax change\n",
        "10 loops, best of 3: 33.2 ms per loop"
       ]
      },
      {
       "output_type": "stream",
       "stream": "stdout",
       "text": [
        "\n",
        "indexing on a view slice using an inline function\n",
        "1000 loops, best of 3: 485 us per loop"
       ]
      },
      {
       "output_type": "stream",
       "stream": "stdout",
       "text": [
        "\n",
        "prestored the slice that we use for iteration\n",
        "100 loops, best of 3: 4.35 ms per loop"
       ]
      },
      {
       "output_type": "stream",
       "stream": "stdout",
       "text": [
        "\n",
        "fast indexing on a view\n",
        "1000 loops, best of 3: 455 us per loop"
       ]
      },
      {
       "output_type": "stream",
       "stream": "stdout",
       "text": [
        "\n",
        "numpy array with function call\n",
        "1000 loops, best of 3: 1.89 ms per loop"
       ]
      },
      {
       "output_type": "stream",
       "stream": "stdout",
       "text": [
        "\n",
        "inlined numpy array\n",
        "1000 loops, best of 3: 1.84 ms per loop"
       ]
      },
      {
       "output_type": "stream",
       "stream": "stdout",
       "text": [
        "\n"
       ]
      }
     ],
     "prompt_number": 12
    },
    {
     "cell_type": "code",
     "collapsed": false,
     "input": [
      "%%cython\n",
      "cimport cython\n",
      "cimport numpy as np\n",
      "import numpy as np\n",
      "\n",
      "@cython.boundscheck(False)\n",
      "@cython.wraparound(False)\n",
      "def cyconvert(np.ndarray[dtype=double,ndim=1] X):\n",
      "    cdef double[::1] Xview = X\n",
      "    return np.transpose(np.asarray(Xview))\n",
      "\n",
      "@cython.boundscheck(False)\n",
      "@cython.wraparound(False)\n",
      "def cyview(np.ndarray[dtype=double,ndim=1] X):\n",
      "    cdef double[::1] Xview = X\n",
      "    return np.transpose(Xview)\n",
      "\n",
      "@cython.boundscheck(False)\n",
      "@cython.wraparound(False)\n",
      "def cyarr(np.ndarray[dtype=double,ndim=1] X):\n",
      "    return np.transpose(X)"
     ],
     "language": "python",
     "metadata": {},
     "outputs": [],
     "prompt_number": 13
    },
    {
     "cell_type": "code",
     "collapsed": false,
     "input": [
      "X = sp.rand(10000)\n",
      "#this shows that when we call a numpy function on a view,\n",
      "#it is really just converting it to a numpy array for computation\n",
      "#I'd bet that the extra overhead is just for a try-catch block\n",
      "%timeit cyconvert(X)\n",
      "%timeit cyview(X)\n",
      "%timeit cyarr(X)"
     ],
     "language": "python",
     "metadata": {},
     "outputs": [
      {
       "output_type": "stream",
       "stream": "stdout",
       "text": [
        "10000 loops, best of 3: 39.7 us per loop\n",
        "10000 loops, best of 3: 50 us per loop"
       ]
      },
      {
       "output_type": "stream",
       "stream": "stdout",
       "text": [
        "\n",
        "1000000 loops, best of 3: 2 us per loop"
       ]
      },
      {
       "output_type": "stream",
       "stream": "stdout",
       "text": [
        "\n"
       ]
      }
     ],
     "prompt_number": 14
    },
    {
     "cell_type": "code",
     "collapsed": false,
     "input": [
      "def tridiag(a, b, c, x):\n",
      "    #note: overrides c and x\n",
      "    size = x.size\n",
      "    temp = 0.\n",
      "    c[0] = c[0] / b[0]\n",
      "    x[0] = x[0] / b[0]\n",
      "    for n in range(size-2):\n",
      "        temp = 1. / (b[n+1] - a[n]*c[n])\n",
      "        c[n+1] *= temp\n",
      "        x[n+1] = (x[n+1] - a[n]*x[n]) * temp\n",
      "    x[size-1] = (x[size-1] - a[size-2]*x[size-2]) / (b[size-1] - a[size-2]*c[size-2])\n",
      "    for n in range(b.size-2, -1, -1):\n",
      "        x[n] = x[n] - c[n] * x[n+1]"
     ],
     "language": "python",
     "metadata": {},
     "outputs": [],
     "prompt_number": 15
    },
    {
     "cell_type": "code",
     "collapsed": false,
     "input": [
      "%%cython\n",
      "cimport numpy as np\n",
      "import numpy as np\n",
      "cimport cython\n",
      "\n",
      "@cython.boundscheck(False)\n",
      "@cython.wraparound(False)\n",
      "cpdef ctridiag(np.ndarray[dtype=double,ndim=1] a, \\\n",
      "np.ndarray[dtype=double,ndim=1] b, \\\n",
      "np.ndarray[dtype=double,ndim=1] c, \\\n",
      "np.ndarray[dtype=double,ndim=1] x):\n",
      "    #note: overrides c and x\n",
      "    cdef int n, size=x.size\n",
      "    cdef double temp\n",
      "    c[0] = c[0] / b[0]\n",
      "    x[0] = x[0] / b[0]\n",
      "    for n in range(size-2):\n",
      "        temp = 1./(b[n+1]-a[n]*c[n])\n",
      "        c[n+1] *= temp\n",
      "        x[n+1] = (x[n+1]-a[n]*x[n])*temp\n",
      "    x[size-1]=(x[size-1]-a[size-2]*x[size-2])/(b[size-1]-a[size-2]*c[size-2])\n",
      "    for n in range(b.size-2, -1, -1):\n",
      "        x[n] = x[n]-c[n]*x[n+1]"
     ],
     "language": "python",
     "metadata": {},
     "outputs": [],
     "prompt_number": 16
    },
    {
     "cell_type": "code",
     "collapsed": false,
     "input": [
      "n = 4000000\n",
      "a = sp.rand(n-1)\n",
      "b = sp.rand(n)\n",
      "c = sp.rand(n-1)\n",
      "x = sp.rand(n)\n",
      "%time tridiag(a, b, c, x)\n",
      "a[:] = sp.rand(n-1)\n",
      "b[:] = sp.rand(n)\n",
      "c[:] = sp.rand(n-1)\n",
      "x[:] = sp.rand(n)\n",
      "%time ctridiag(a, b, c, x)"
     ],
     "language": "python",
     "metadata": {},
     "outputs": [
      {
       "output_type": "stream",
       "stream": "stdout",
       "text": [
        "CPU times: user 21.89 s, sys: 0.00 s, total: 21.89 s\n",
        "Wall time: 21.89 s\n",
        "CPU times: user 0.17 s, sys: 0.00 s, total: 0.17 s"
       ]
      },
      {
       "output_type": "stream",
       "stream": "stdout",
       "text": [
        "\n",
        "Wall time: 0.16 s\n"
       ]
      }
     ],
     "prompt_number": 17
    },
    {
     "cell_type": "code",
     "collapsed": false,
     "input": [
      "#comparison with the cython version\n",
      "#the normal algorithm can do an 1100x1100 system\n",
      "#in about the time it takes the cython tridiagonal algorithm\n",
      "#to do a 4000000x4000000 system\n",
      "n = 1100\n",
      "a = sp.rand(n-1)\n",
      "b = sp.rand(n)\n",
      "c = sp.rand(n-1)\n",
      "x = sp.rand(n)\n",
      "A = sp.zeros((n,n))\n",
      "for i in xrange(n):\n",
      "    A[i,i] = b[i]\n",
      "for i in xrange(n-1):\n",
      "    A[i+1,i] = a[i]\n",
      "    A[i,i+1] = c[i]\n",
      "%time la.solve(A, x)"
     ],
     "language": "python",
     "metadata": {},
     "outputs": [
      {
       "output_type": "stream",
       "stream": "stdout",
       "text": [
        "CPU times: user 0.15 s, sys: 0.00 s, total: 0.15 s\n",
        "Wall time: 0.15 s\n"
       ]
      },
      {
       "output_type": "pyout",
       "prompt_number": 18,
       "text": [
        "array([-7.27665798,  2.09498456, -0.38698493, ..., -0.01091182,\n",
        "        9.4445396 , -3.18685846])"
       ]
      }
     ],
     "prompt_number": 18
    },
    {
     "cell_type": "code",
     "collapsed": false,
     "input": [
      "#comparison with the pure python version\n",
      "#the normal algorithm can do an 6200x6200 system\n",
      "#in about the time it takes the python tridiagonal algorithm\n",
      "#to do a 4000000x4000000 system\n",
      "n = 6200\n",
      "a = sp.rand(n-1)\n",
      "b = sp.rand(n)\n",
      "c = sp.rand(n-1)\n",
      "x = sp.rand(n)\n",
      "A = sp.zeros((n,n))\n",
      "for i in xrange(n):\n",
      "    A[i,i] = b[i]\n",
      "for i in xrange(n-1):\n",
      "    A[i+1,i] = a[i]\n",
      "    A[i,i+1] = c[i]\n",
      "%time la.solve(A, x)"
     ],
     "language": "python",
     "metadata": {},
     "outputs": [
      {
       "output_type": "stream",
       "stream": "stdout",
       "text": [
        "CPU times: user 21.23 s, sys: 0.00 s, total: 21.23 s\n",
        "Wall time: 21.23 s\n"
       ]
      },
      {
       "output_type": "pyout",
       "prompt_number": 19,
       "text": [
        "array([  0.59956813,  -0.70020726,   1.26640548, ...,   3.40710014,\n",
        "       -10.53584192,  17.04657998])"
       ]
      }
     ],
     "prompt_number": 19
    },
    {
     "cell_type": "code",
     "collapsed": false,
     "input": [],
     "language": "python",
     "metadata": {},
     "outputs": []
    }
   ],
   "metadata": {}
  }
 ]
}