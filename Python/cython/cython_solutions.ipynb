{
 "metadata": {
  "name": "cython_solutions"
 },
 "nbformat": 3,
 "nbformat_minor": 0,
 "worksheets": [
  {
   "cells": [
    {
     "cell_type": "code",
     "collapsed": false,
     "input": [
      "import scipy as sp\n",
      "import numpy as np\n",
      "from scipy import linalg as la\n",
      "%load_ext cythonmagic"
     ],
     "language": "python",
     "metadata": {},
     "outputs": [],
     "prompt_number": 2
    },
    {
     "cell_type": "code",
     "collapsed": false,
     "input": [
      "def naivesum(X):\n",
      "    tot=0.\n",
      "    for i in xrange(X.size):\n",
      "        tot+=X[i]\n",
      "    return tot"
     ],
     "language": "python",
     "metadata": {},
     "outputs": [],
     "prompt_number": 2
    },
    {
     "cell_type": "code",
     "collapsed": false,
     "input": [
      "%%cython\n",
      "import numpy as np\n",
      "cimport numpy as np\n",
      "cimport cython\n",
      "\n",
      "def cysum1(X):\n",
      "    cdef int i, size=X.size\n",
      "    cdef double tot\n",
      "    for i in range(size):\n",
      "        tot+=X[i]\n",
      "    return tot\n",
      "\n",
      "def cysum2(np.ndarray[dtype=double,ndim=1] X):\n",
      "    cdef int i, size=X.size\n",
      "    cdef double tot\n",
      "    for i in range(size):\n",
      "        tot+=X[i]\n",
      "    return tot\n",
      "\n",
      "@cython.boundscheck(False)\n",
      "@cython.wraparound(False)\n",
      "def cysum3(np.ndarray[dtype=double,ndim=1] X):\n",
      "    cdef int i, size=X.size\n",
      "    cdef double tot\n",
      "    for i in range(size):\n",
      "        tot+=X[i]\n",
      "    return tot\n",
      "\n",
      "def cysum4(np.ndarray[dtype=double,ndim=1] X):\n",
      "    cdef int i, size=X.size\n",
      "    cdef double tot\n",
      "    cdef double* Xptr = &X[0]\n",
      "    for i in range(size):\n",
      "        tot+= Xptr[0]\n",
      "        Xptr+=1\n",
      "    return tot\n",
      "\n",
      "def cysum5(np.ndarray[dtype=double,ndim=1] X):\n",
      "    cdef int i, size=X.size\n",
      "    cdef double tot\n",
      "    cdef double* Xptr = &X[0]\n",
      "    for i in range(size):\n",
      "        tot+= Xptr[i]\n",
      "    return tot"
     ],
     "language": "python",
     "metadata": {},
     "outputs": [],
     "prompt_number": 3
    },
    {
     "cell_type": "code",
     "collapsed": false,
     "input": [
      "#versions 4 and 5 are alternate implementations using pointers\n",
      "#I included them here to ensure that they are not faster than \n",
      "#the best version actually coded in the lab.\n",
      "X=sp.rand(10000000)\n",
      "%timeit naivesum(X)\n",
      "%timeit cysum1(X)\n",
      "%timeit sum(X)\n",
      "%timeit cysum2(X)\n",
      "%timeit cysum3(X)\n",
      "%timeit cysum4(X)\n",
      "%timeit cysum5(X)\n",
      "%timeit np.sum(X)"
     ],
     "language": "python",
     "metadata": {},
     "outputs": [
      {
       "output_type": "stream",
       "stream": "stdout",
       "text": [
        "1 loops, best of 3: 4.24 s per loop\n",
        "1 loops, best of 3: 12.7 s per loop"
       ]
      },
      {
       "output_type": "stream",
       "stream": "stdout",
       "text": [
        "\n",
        "1 loops, best of 3: 3.62 s per loop"
       ]
      },
      {
       "output_type": "stream",
       "stream": "stdout",
       "text": [
        "\n",
        "10 loops, best of 3: 32.9 ms per loop"
       ]
      },
      {
       "output_type": "stream",
       "stream": "stdout",
       "text": [
        "\n",
        "10 loops, best of 3: 21 ms per loop"
       ]
      },
      {
       "output_type": "stream",
       "stream": "stdout",
       "text": [
        "\n",
        "10 loops, best of 3: 20.2 ms per loop"
       ]
      },
      {
       "output_type": "stream",
       "stream": "stdout",
       "text": [
        "\n",
        "10 loops, best of 3: 21.1 ms per loop"
       ]
      },
      {
       "output_type": "stream",
       "stream": "stdout",
       "text": [
        "\n",
        "10 loops, best of 3: 19.2 ms per loop"
       ]
      },
      {
       "output_type": "stream",
       "stream": "stdout",
       "text": [
        "\n"
       ]
      }
     ],
     "prompt_number": 4
    },
    {
     "cell_type": "code",
     "collapsed": false,
     "input": [
      "def pymindist(Y):\n",
      "    X = Y.take(Y[:,0].argsort(),axis=0)\n",
      "    r = 0.\n",
      "    low = 0\n",
      "    dim = X.shape[1]\n",
      "    n = len(X)\n",
      "    for i in range(dim):\n",
      "        r+= (X[0,i]-X[1,i])**2\n",
      "    r = r**.5\n",
      "    for i in range(2,n):\n",
      "        while X[low,0]<(X[i,0]-r):\n",
      "            low+=1\n",
      "        for k in range(low,i):\n",
      "            proc=True\n",
      "            d=0.\n",
      "            for j in range(1,dim):\n",
      "                dif=abs(X[k,j]-X[i,j])\n",
      "                if r<dif:\n",
      "                    proc=False\n",
      "                    break\n",
      "                d+=dif**2\n",
      "            if proc:\n",
      "                r=min(r,(d+(X[k,0]-X[i,0])**2)**.5)\n",
      "    return r"
     ],
     "language": "python",
     "metadata": {},
     "outputs": [],
     "prompt_number": 5
    },
    {
     "cell_type": "code",
     "collapsed": false,
     "input": [
      "%%cython\n",
      "from libc.math cimport fabs\n",
      "cimport numpy as np\n",
      "cimport cython\n",
      "@cython.boundscheck(False)\n",
      "@cython.wraparound(False)\n",
      "def cymindist(Y):\n",
      "    cdef np.ndarray[double, ndim=2] X = Y.take(Y[:,0].argsort(),axis=0)\n",
      "    cdef double r = 0.\n",
      "    cdef int low = 0\n",
      "    cdef int dim = X.shape[1]\n",
      "    cdef int n = len(X)\n",
      "    cdef int i, j, k\n",
      "    cdef double d, dif\n",
      "    proc = True\n",
      "    for i in range(dim):\n",
      "        r+= (X[0,i]-X[1,i])**2\n",
      "    r = r**.5\n",
      "    for i in range(2,n):\n",
      "        while X[low,0]<(X[i,0]-r):\n",
      "            low+=1\n",
      "        for k in range(low,i):\n",
      "            proc=True\n",
      "            d=0.\n",
      "            for j in range(1,dim):\n",
      "                dif=fabs(X[k,j]-X[i,j])\n",
      "                if r<dif:\n",
      "                    proc=False\n",
      "                    break\n",
      "                d+=dif**2\n",
      "            if proc:\n",
      "                r=min(r,(d+(X[k,0]-X[i,0])**2)**.5)\n",
      "    return r"
     ],
     "language": "python",
     "metadata": {},
     "outputs": [],
     "prompt_number": 6
    },
    {
     "cell_type": "code",
     "collapsed": false,
     "input": [
      "X=sp.rand(1000000,2)\n",
      "%timeit pymindist(X)\n",
      "%timeit cymindist(X)"
     ],
     "language": "python",
     "metadata": {},
     "outputs": [
      {
       "output_type": "stream",
       "stream": "stdout",
       "text": [
        "1 loops, best of 3: 3.69 s per loop\n",
        "1 loops, best of 3: 314 ms per loop"
       ]
      },
      {
       "output_type": "stream",
       "stream": "stdout",
       "text": [
        "\n"
       ]
      }
     ],
     "prompt_number": 18
    },
    {
     "cell_type": "code",
     "collapsed": false,
     "input": [
      "def mymultpy(X,power):\n",
      "    prod = np.empty_like(X)\n",
      "    prod[:]=X\n",
      "    temparr = np.empty_like(X[0])\n",
      "    size=X.shape[0]\n",
      "    for n in xrange(1,power):\n",
      "        for i in xrange(size):\n",
      "            for j in xrange(size):\n",
      "                tot=0.\n",
      "                for k in xrange(size):\n",
      "                    tot+=prod[i,k]*X[k,j]\n",
      "                temparr[j]=tot\n",
      "            prod[i]=temparr\n",
      "    return prod"
     ],
     "language": "python",
     "metadata": {},
     "outputs": [],
     "prompt_number": 8
    },
    {
     "cell_type": "code",
     "collapsed": false,
     "input": [
      "%%cython\n",
      "#lets try raising a matrix to a power...\n",
      "#really just a special case of matrix mult.\n",
      "import numpy as np\n",
      "cimport numpy as np\n",
      "cimport cython\n",
      "\n",
      "def mymult1(np.ndarray[dtype=double,ndim=2] X, int power):\n",
      "    cdef np.ndarray[dtype=double,ndim=2] prod = np.empty_like(X)\n",
      "    prod[:]=X\n",
      "    cdef np.ndarray[dtype=double,ndim=1] temparr = np.empty_like(X[0])\n",
      "    cdef int i,j,k,n, size=X.shape[0]\n",
      "    cdef double tot\n",
      "    for n in range(1,power):\n",
      "        for i in range(size):\n",
      "            for j in range(size):\n",
      "                tot=0.\n",
      "                for k in range(size):\n",
      "                    tot+=prod[i,k]*X[k,j]\n",
      "                temparr[j]=tot\n",
      "            prod[i]=temparr\n",
      "    return prod\n",
      "\n",
      "@cython.boundscheck(False)\n",
      "@cython.wraparound(False)\n",
      "def mymult2(np.ndarray[dtype=double,ndim=2] X, int power):\n",
      "    cdef np.ndarray[dtype=double,ndim=2] prod = np.empty_like(X)\n",
      "    prod[:]=X\n",
      "    cdef np.ndarray[dtype=double,ndim=1] temparr = np.empty_like(X[0])\n",
      "    cdef int i,j,k,n, size=X.shape[0]\n",
      "    cdef double tot\n",
      "    for n in range(1,power):\n",
      "        for i in range(size):\n",
      "            for j in range(size):\n",
      "                tot=0.\n",
      "                for k in range(size):\n",
      "                    tot+=prod[i,k]*X[k,j]\n",
      "                temparr[j]=tot\n",
      "            prod[i]=temparr\n",
      "    return prod\n",
      "\n",
      "@cython.boundscheck(False)\n",
      "@cython.wraparound(False)\n",
      "def mymult3(np.ndarray[dtype=double,ndim=2] X, int power):\n",
      "    cdef np.ndarray[dtype=double,ndim=2] prod = np.empty_like(X)\n",
      "    cdef double[:,::1] prodview = prod\n",
      "    prod[:]=X\n",
      "    cdef np.ndarray[dtype=double,ndim=1] temparr = np.empty_like(X[0])\n",
      "    cdef double[::1] tempview=temparr\n",
      "    cdef int i,j,k,n, size=X.shape[0]\n",
      "    cdef double tot\n",
      "    for n in range(1,power):\n",
      "        for i in range(size):\n",
      "            for j in range(size):\n",
      "                tot=0.\n",
      "                for k in range(size):\n",
      "                    tot+=prod[i,k]*X[k,j]\n",
      "                temparr[j]=tot\n",
      "            prodview[i]=tempview\n",
      "    return prod\n",
      "\n",
      "@cython.boundscheck(False)\n",
      "@cython.wraparound(False)\n",
      "def mymult4(np.ndarray[dtype=double,ndim=2] X, int power):\n",
      "    cdef np.ndarray[dtype=double,ndim=2] prod = np.empty_like(X)\n",
      "    prod[:]=X\n",
      "    cdef np.ndarray[dtype=double,ndim=1] temparr = np.empty_like(X[0])\n",
      "    cdef int i,j,k,n, size=X.shape[0]\n",
      "    cdef double tot\n",
      "    for n in range(1,power):\n",
      "        for i in range(size):\n",
      "            for j in range(size):\n",
      "                tot=0.\n",
      "                for k in range(size):\n",
      "                    tot+=prod[i,k]*X[k,j]\n",
      "                temparr[j]=tot\n",
      "            prod[i]=temparr\n",
      "    return prod\n",
      "\n",
      "@cython.boundscheck(False)\n",
      "@cython.wraparound(False)\n",
      "def mymult5(np.ndarray[dtype=double,ndim=2] X, int power):\n",
      "    cdef np.ndarray[dtype=double,ndim=2] prod = np.empty_like(X)\n",
      "    prod[:]=X\n",
      "    cdef np.ndarray[dtype=double,ndim=1] temparr = np.empty_like(X[0])\n",
      "    cdef int i,j,k,n, size=X.shape[0]\n",
      "    cdef double tot\n",
      "    for n in range(1,power):\n",
      "        for j in range(size):\n",
      "            tot=0.\n",
      "            for k in range(size):\n",
      "                tot+=prod[0,k]*X[k,j]\n",
      "            temparr[j]=tot\n",
      "        for i in range(1,size):\n",
      "            for j in range(size):\n",
      "                tot=0.\n",
      "                for k in range(size):\n",
      "                    tot+=prod[i,k]*X[k,j]\n",
      "                prod[i-1,j],temparr[j]=temparr[j],tot\n",
      "        prod[size-1]=temparr\n",
      "    return prod"
     ],
     "language": "python",
     "metadata": {},
     "outputs": [],
     "prompt_number": 9
    },
    {
     "cell_type": "code",
     "collapsed": false,
     "input": [
      "#the typed memoryviews don't add much here but it's something.\n",
      "#versions 4 and 5 are not in the problem, but I wrote them to check that they aren't faster\n",
      "X=sp.rand(100,100)\n",
      "print la.norm(sp.dot(X,X)-mymult1(X,2))\n",
      "print la.norm(sp.dot(X,X)-mymult2(X,2))\n",
      "print la.norm(sp.dot(X,X)-mymult3(X,2))\n",
      "print la.norm(sp.dot(X,X)-mymult4(X,2))\n",
      "print la.norm(sp.dot(X,X)-mymult5(X,2))\n",
      "%timeit mymultpy(X,2)\n",
      "%timeit mymult1(X,2)\n",
      "%timeit mymult2(X,2)\n",
      "%timeit mymult3(X,2)\n",
      "%timeit mymult4(X,2)\n",
      "%timeit mymult5(X,2)\n",
      "%timeit sp.dot(X,X)"
     ],
     "language": "python",
     "metadata": {},
     "outputs": [
      {
       "output_type": "stream",
       "stream": "stdout",
       "text": [
        "0.0\n",
        "0.0\n",
        "0.0\n",
        "0.0\n",
        "0.0\n",
        "1 loops, best of 3: 1.07 s per loop"
       ]
      },
      {
       "output_type": "stream",
       "stream": "stdout",
       "text": [
        "\n",
        "100 loops, best of 3: 8.97 ms per loop"
       ]
      },
      {
       "output_type": "stream",
       "stream": "stdout",
       "text": [
        "\n",
        "1000 loops, best of 3: 1.76 ms per loop"
       ]
      },
      {
       "output_type": "stream",
       "stream": "stdout",
       "text": [
        "\n",
        "1000 loops, best of 3: 1.68 ms per loop"
       ]
      },
      {
       "output_type": "stream",
       "stream": "stdout",
       "text": [
        "\n",
        "1000 loops, best of 3: 1.71 ms per loop"
       ]
      },
      {
       "output_type": "stream",
       "stream": "stdout",
       "text": [
        "\n",
        "1000 loops, best of 3: 1.68 ms per loop"
       ]
      },
      {
       "output_type": "stream",
       "stream": "stdout",
       "text": [
        "\n",
        "1000 loops, best of 3: 163 us per loop"
       ]
      },
      {
       "output_type": "stream",
       "stream": "stdout",
       "text": [
        "\n"
       ]
      }
     ],
     "prompt_number": 10
    },
    {
     "cell_type": "code",
     "collapsed": false,
     "input": [
      "%%cython\n",
      "cimport cython\n",
      "cimport numpy as np\n",
      "import numpy as np\n",
      "\n",
      "def rowacc1(X):\n",
      "    cdef int i, rows=X.shape[0], cols=X.shape[1]\n",
      "    for i in range(rows):\n",
      "        for j in range(cols):\n",
      "            X[i,j]\n",
      "\n",
      "def rowacc2(X):\n",
      "    cdef int i, rows=X.shape[0], cols=X.shape[1]\n",
      "    for i in range(rows):\n",
      "        for j in range(cols):\n",
      "            (X[i])[j]\n",
      "\n",
      "@cython.boundscheck(False)\n",
      "@cython.wraparound(False)\n",
      "def rowacc3(np.ndarray[dtype=double,ndim=2] X):\n",
      "    cdef int i, rows=X.shape[0], cols=X.shape[1]\n",
      "    for i in range(rows):\n",
      "        for j in range(cols):\n",
      "            (X[i])[j]\n",
      "\n",
      "@cython.boundscheck(False)\n",
      "@cython.wraparound(False)\n",
      "def rowacc4(np.ndarray[dtype=double,ndim=2] X):\n",
      "    cdef int i, rows=X.shape[0], cols=X.shape[1]\n",
      "    for i in range(rows):\n",
      "        for j in range(cols):\n",
      "            X[i,j]\n",
      "\n",
      "@cython.boundscheck(False)\n",
      "@cython.wraparound(False)\n",
      "def rowacc5(np.ndarray[dtype=double,ndim=2] X):\n",
      "    cdef int i, rows=X.shape[0], cols=X.shape[1]\n",
      "    cdef double[:,::1] Xview = X\n",
      "    for i in range(rows):\n",
      "        for j in range(cols):\n",
      "            (Xview[i])[j]\n",
      "\n",
      "@cython.boundscheck(False)\n",
      "@cython.wraparound(False)\n",
      "def rowacc6(np.ndarray[dtype=double,ndim=2] X):\n",
      "    cdef int i, rows=X.shape[0], cols=X.shape[1]\n",
      "    cdef double[:,::1] Xview = X\n",
      "    for i in range(rows):\n",
      "        for j in range(cols):\n",
      "            Xview[i][j]\n",
      "\n",
      "@cython.boundscheck(False)\n",
      "@cython.wraparound(False)\n",
      "cdef inline rowiter(double[::1] Xslice, int cols):\n",
      "    cdef int j\n",
      "    for j in range(cols):\n",
      "        Xslice[j]\n",
      "\n",
      "@cython.boundscheck(False)\n",
      "@cython.wraparound(False)\n",
      "def rowacc7(np.ndarray[dtype=double,ndim=2] X):\n",
      "    cdef int i, rows=X.shape[0], cols=X.shape[1]\n",
      "    cdef double [:,::1] Xview = X\n",
      "    for i in range(rows):\n",
      "        rowiter(Xview[i], cols)\n",
      "\n",
      "@cython.boundscheck(False)\n",
      "@cython.wraparound(False)\n",
      "def rowacc8(np.ndarray[dtype=double,ndim=2] X):\n",
      "    cdef int i, rows=X.shape[0], cols=X.shape[1]\n",
      "    cdef double[:,::1] Xview = X\n",
      "    cdef double[::1] Xrow\n",
      "    for i in range(rows):\n",
      "        Xrow=X[i]\n",
      "        for j in range(cols):\n",
      "            Xrow[j]\n",
      "\n",
      "@cython.boundscheck(False)\n",
      "@cython.wraparound(False)\n",
      "def rowacc9(np.ndarray[dtype=double,ndim=2] X):\n",
      "    cdef int i, rows=X.shape[0], cols=X.shape[1]\n",
      "    cdef double[:,::1] Xview = X\n",
      "    for i in range(rows):\n",
      "        for j in range(cols):\n",
      "            Xview[i,j]\n",
      "\n",
      "@cython.boundscheck(False)\n",
      "@cython.wraparound(False)\n",
      "cdef arrrowiter(np.ndarray[dtype=double,ndim=1] Xslice, int cols):\n",
      "    cdef int j\n",
      "    for j in range(cols):\n",
      "        Xslice[j]\n",
      "\n",
      "@cython.boundscheck(False)\n",
      "@cython.wraparound(False)\n",
      "def rowacc10(np.ndarray[dtype=double,ndim=2] X):\n",
      "    cdef int i, rows=X.shape[0],cols=X.shape[1]\n",
      "    for i in range(rows):\n",
      "        arrrowiter(X[i],cols)\n",
      "\n",
      "@cython.boundscheck(False)\n",
      "@cython.wraparound(False)\n",
      "cdef inline arrrowiter2(np.ndarray[dtype=double,ndim=1] Xslice, int cols):\n",
      "    cdef int j\n",
      "    for j in range(cols):\n",
      "        Xslice[j]\n",
      "\n",
      "@cython.boundscheck(False)\n",
      "@cython.wraparound(False)\n",
      "def rowacc11(np.ndarray[dtype=double,ndim=2] X):\n",
      "    cdef int i, rows=X.shape[0],cols=X.shape[1]\n",
      "    for i in range(rows):\n",
      "        arrrowiter2(X[i],cols)"
     ],
     "language": "python",
     "metadata": {},
     "outputs": [
      {
       "output_type": "stream",
       "stream": "stderr",
       "text": [
        "warning: .ipython\\cython\\_cython_magic_3d50a612db702d39647d4849671c557b.pyx:102:24: Buffer unpacking not optimized away.\n",
        "warning: .ipython\\cython\\_cython_magic_3d50a612db702d39647d4849671c557b.pyx:102:24: Buffer unpacking not optimized away.\n"
       ]
      }
     ],
     "prompt_number": 13
    },
    {
     "cell_type": "code",
     "collapsed": false,
     "input": [
      "#this is to show speed using different ways of slicing.\n",
      "#we see that memoryviews work nearly the same as single item access when inlined.\n",
      "#we also see that item access on a memoryview slice is still optimized.\n",
      "X=sp.rand(1000,1000)\n",
      "print \"untyped, python normal indexing\"\n",
      "%timeit rowacc1(X)\n",
      "print \"untyped, python indexing on a slice\"\n",
      "%timeit rowacc2(X)\n",
      "print \"typed indexing on a slice\"\n",
      "%timeit rowacc3(X)\n",
      "print \"typed fast indexing\"\n",
      "%timeit rowacc4(X)\n",
      "print \"indexing on a view slice\"\n",
      "%timeit rowacc5(X)\n",
      "print \"same but with sleight syntax change\"\n",
      "%timeit rowacc6(X)\n",
      "print \"indexing on a view slice using an inline function\"\n",
      "%timeit rowacc7(X)\n",
      "print \"prestored the slice that we use for iteration\"\n",
      "%timeit rowacc8(X)\n",
      "print \"fast indexing on a view\"\n",
      "%timeit rowacc9(X)\n",
      "print \"numpy array with function call\"\n",
      "%timeit rowacc10(X)\n",
      "print \"inlined numpy array\"\n",
      "%timeit rowacc11(X)\n",
      "#we see here that slicing is coded in as item-by-item acess for an inlined function.\n",
      "#it looks like the compiler can be picky about using that inlining though."
     ],
     "language": "python",
     "metadata": {},
     "outputs": [
      {
       "output_type": "stream",
       "stream": "stdout",
       "text": [
        "untyped, python normal indexing\n",
        "1 loops, best of 3: 223 ms per loop"
       ]
      },
      {
       "output_type": "stream",
       "stream": "stdout",
       "text": [
        "\n",
        "untyped, python indexing on a slice\n",
        "1 loops, best of 3: 570 ms per loop"
       ]
      },
      {
       "output_type": "stream",
       "stream": "stdout",
       "text": [
        "\n",
        "typed indexing on a slice\n",
        "1 loops, best of 3: 572 ms per loop"
       ]
      },
      {
       "output_type": "stream",
       "stream": "stdout",
       "text": [
        "\n",
        "typed fast indexing\n",
        "1000 loops, best of 3: 472 us per loop"
       ]
      },
      {
       "output_type": "stream",
       "stream": "stdout",
       "text": [
        "\n",
        "indexing on a view slice\n",
        "10 loops, best of 3: 32.4 ms per loop"
       ]
      },
      {
       "output_type": "stream",
       "stream": "stdout",
       "text": [
        "\n",
        "same but with sleight syntax change\n",
        "10 loops, best of 3: 34.4 ms per loop"
       ]
      },
      {
       "output_type": "stream",
       "stream": "stdout",
       "text": [
        "\n",
        "indexing on a view slice using an inline function\n",
        "1000 loops, best of 3: 491 us per loop"
       ]
      },
      {
       "output_type": "stream",
       "stream": "stdout",
       "text": [
        "\n",
        "prestored the slice that we use for iteration\n",
        "100 loops, best of 3: 4.55 ms per loop"
       ]
      },
      {
       "output_type": "stream",
       "stream": "stdout",
       "text": [
        "\n",
        "fast indexing on a view\n",
        "1000 loops, best of 3: 473 us per loop"
       ]
      },
      {
       "output_type": "stream",
       "stream": "stdout",
       "text": [
        "\n",
        "numpy array with function call\n",
        "100 loops, best of 3: 1.89 ms per loop"
       ]
      },
      {
       "output_type": "stream",
       "stream": "stdout",
       "text": [
        "\n",
        "inlined numpy array\n",
        "1000 loops, best of 3: 1.91 ms per loop"
       ]
      },
      {
       "output_type": "stream",
       "stream": "stdout",
       "text": [
        "\n"
       ]
      }
     ],
     "prompt_number": 14
    },
    {
     "cell_type": "code",
     "collapsed": false,
     "input": [
      "%%cython\n",
      "cimport cython\n",
      "cimport numpy as np\n",
      "import numpy as np\n",
      "\n",
      "@cython.boundscheck(False)\n",
      "@cython.wraparound(False)\n",
      "def cyconvert(np.ndarray[dtype=double,ndim=1] X):\n",
      "    cdef double[::1] Xview = X\n",
      "    return np.transpose(np.asarray(Xview))\n",
      "\n",
      "@cython.boundscheck(False)\n",
      "@cython.wraparound(False)\n",
      "def cyview(np.ndarray[dtype=double,ndim=1] X):\n",
      "    cdef double[::1] Xview = X\n",
      "    return np.transpose(Xview)\n",
      "\n",
      "@cython.boundscheck(False)\n",
      "@cython.wraparound(False)\n",
      "def cyarr(np.ndarray[dtype=double,ndim=1] X):\n",
      "    return np.transpose(X)"
     ],
     "language": "python",
     "metadata": {},
     "outputs": [],
     "prompt_number": 32
    },
    {
     "cell_type": "code",
     "collapsed": false,
     "input": [
      "X=sp.rand(10000)\n",
      "#this shows that when we call a numpy function on a view,\n",
      "#it is really just converting it to a numpy array for computation\n",
      "#I'd bet that the extra overhead is just for a try-catch block\n",
      "%timeit cyconvert(X)\n",
      "%timeit cyview(X)\n",
      "%timeit cyarr(X)"
     ],
     "language": "python",
     "metadata": {},
     "outputs": [
      {
       "output_type": "stream",
       "stream": "stdout",
       "text": [
        "10000 loops, best of 3: 42.5 us per loop\n",
        "10000 loops, best of 3: 52.7 us per loop"
       ]
      },
      {
       "output_type": "stream",
       "stream": "stdout",
       "text": [
        "\n",
        "100000 loops, best of 3: 2.11 us per loop"
       ]
      },
      {
       "output_type": "stream",
       "stream": "stdout",
       "text": [
        "\n"
       ]
      }
     ],
     "prompt_number": 33
    },
    {
     "cell_type": "code",
     "collapsed": false,
     "input": [],
     "language": "python",
     "metadata": {},
     "outputs": []
    }
   ],
   "metadata": {}
  }
 ]
}